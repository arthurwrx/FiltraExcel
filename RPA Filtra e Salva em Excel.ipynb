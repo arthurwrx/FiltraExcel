<<<<<<< HEAD
{
 "cells": [
  {
   "cell_type": "code",
   "execution_count": 7,
   "metadata": {},
   "outputs": [
    {
     "ename": "KeyboardInterrupt",
     "evalue": "",
     "output_type": "error",
     "traceback": [
      "\u001b[1;31m---------------------------------------------------------------------------\u001b[0m",
      "\u001b[1;31mKeyboardInterrupt\u001b[0m                         Traceback (most recent call last)",
      "Cell \u001b[1;32mIn[7], line 51\u001b[0m\n\u001b[0;32m     49\u001b[0m time\u001b[39m.\u001b[39msleep(\u001b[39m1\u001b[39m)\n\u001b[0;32m     50\u001b[0m pyautogui\u001b[39m.\u001b[39mpress(\u001b[39m'\u001b[39m\u001b[39menter\u001b[39m\u001b[39m'\u001b[39m)\n\u001b[1;32m---> 51\u001b[0m time\u001b[39m.\u001b[39;49msleep(\u001b[39m5\u001b[39;49m)\n\u001b[0;32m     53\u001b[0m pyautogui\u001b[39m.\u001b[39mpress(\u001b[39m'\u001b[39m\u001b[39malt\u001b[39m\u001b[39m'\u001b[39m)\n\u001b[0;32m     54\u001b[0m pyautogui\u001b[39m.\u001b[39mpress(\u001b[39m'\u001b[39m\u001b[39ma\u001b[39m\u001b[39m'\u001b[39m)\n",
      "\u001b[1;31mKeyboardInterrupt\u001b[0m: "
     ]
    }
   ],
   "source": [
    "import pyautogui\n",
    "import time\n",
    "from openpyxl import load_workbook\n",
    "\n",
    "nomeCaminhoArquivo = 'C:\\\\Projetos Python\\\\Projeto Filtra Excel\\\\Lista Gestores.xlsx'\n",
    "planilha_aberta =  load_workbook(filename= nomeCaminhoArquivo)\n",
    "sheet_selecionada = planilha_aberta[\"Arquivos\"] ## Acessa a aba que estiver dentro de wb\n",
    "\n",
    "\n",
    "for linha in range(2, len(sheet_selecionada['A']) + 1 ):\n",
    "\n",
    "    nome_gestor = sheet_selecionada[f'A{linha}'].value\n",
    "\n",
    "    pyautogui.PAUSE = 1\n",
    "    pyautogui.press('win')\n",
    "    pyautogui.typewrite('executar')\n",
    "    pyautogui.press('enter')\n",
    "    pyautogui.write(\"C:\\\\UiPath\\\\Envio de Emails\\\\Envio de Email RPA com anexo\\\\Envio de Email RPA RH Banco de Horas\\\\Bando de horas Outubro-Novembro.xlsx\")\n",
    "    pyautogui.press('enter')\n",
    "    time.sleep(3)\n",
    "    pyautogui.click(x=495, y=247)\n",
    "    pyautogui.press('down')\n",
    "    pyautogui.press('down')\n",
    "    pyautogui.press('down')\n",
    "    pyautogui.press('down')\n",
    "    pyautogui.press('down')\n",
    "    pyautogui.press('down')\n",
    "    pyautogui.press('down')\n",
    "    pyautogui.press('down')\n",
    "    pyautogui.write(nome_gestor)\n",
    "    pyautogui.press('enter')\n",
    "    pyautogui.hotkey('ctrl', 't')\n",
    "    pyautogui.hotkey('ctrl', 't')\n",
    "    pyautogui.hotkey('ctrl', 'c')\n",
    "    pyautogui.hotkey('alt', 'shift', 'f1')\n",
    "    pyautogui.hotkey('ctrl', 'v')\n",
    "    time.sleep(8)\n",
    "    pyautogui.press('alt')\n",
    "    pyautogui.press('c')\n",
    "    pyautogui.press('o')\n",
    "    pyautogui.press('t')\n",
    "\n",
    "    pyautogui.hotkey('ctrl', 'pgdown')\n",
    "    pyautogui.click(x=246, y=989, button='right')\n",
    "    pyautogui.press('down')\n",
    "    pyautogui.press('down')\n",
    "    pyautogui.press('enter')\n",
    "\n",
    "    time.sleep(1)\n",
    "    pyautogui.press('enter')\n",
    "    time.sleep(5)\n",
    "\n",
    "    pyautogui.press('alt')\n",
    "    pyautogui.press('a')\n",
    "    pyautogui.press('a')\n",
    "    pyautogui.press('o')\n",
    "    pyautogui.typewrite(nome_gestor)\n",
    "    pyautogui.press('enter')\n",
    "    time.sleep(2)\n",
    "    pyautogui.hotkey('alt','f4')\n",
    "\n"
   ]
  },
  {
   "cell_type": "code",
   "execution_count": 3,
   "metadata": {},
   "outputs": [
    {
     "data": {
      "text/plain": [
       "Point(x=246, y=989)"
      ]
     },
     "execution_count": 3,
     "metadata": {},
     "output_type": "execute_result"
    }
   ],
   "source": [
    "import pyautogui\n",
    "pyautogui.position()"
   ]
  }
 ],
 "metadata": {
  "kernelspec": {
   "display_name": "Python 3",
   "language": "python",
   "name": "python3"
  },
  "language_info": {
   "codemirror_mode": {
    "name": "ipython",
    "version": 3
   },
   "file_extension": ".py",
   "mimetype": "text/x-python",
   "name": "python",
   "nbconvert_exporter": "python",
   "pygments_lexer": "ipython3",
   "version": "3.12.0"
  },
  "orig_nbformat": 4
 },
 "nbformat": 4,
 "nbformat_minor": 2
}
=======
{
 "cells": [
  {
   "cell_type": "code",
   "execution_count": 7,
   "metadata": {},
   "outputs": [
    {
     "ename": "KeyboardInterrupt",
     "evalue": "",
     "output_type": "error",
     "traceback": [
      "\u001b[1;31m---------------------------------------------------------------------------\u001b[0m",
      "\u001b[1;31mKeyboardInterrupt\u001b[0m                         Traceback (most recent call last)",
      "Cell \u001b[1;32mIn[7], line 51\u001b[0m\n\u001b[0;32m     49\u001b[0m time\u001b[39m.\u001b[39msleep(\u001b[39m1\u001b[39m)\n\u001b[0;32m     50\u001b[0m pyautogui\u001b[39m.\u001b[39mpress(\u001b[39m'\u001b[39m\u001b[39menter\u001b[39m\u001b[39m'\u001b[39m)\n\u001b[1;32m---> 51\u001b[0m time\u001b[39m.\u001b[39;49msleep(\u001b[39m5\u001b[39;49m)\n\u001b[0;32m     53\u001b[0m pyautogui\u001b[39m.\u001b[39mpress(\u001b[39m'\u001b[39m\u001b[39malt\u001b[39m\u001b[39m'\u001b[39m)\n\u001b[0;32m     54\u001b[0m pyautogui\u001b[39m.\u001b[39mpress(\u001b[39m'\u001b[39m\u001b[39ma\u001b[39m\u001b[39m'\u001b[39m)\n",
      "\u001b[1;31mKeyboardInterrupt\u001b[0m: "
     ]
    }
   ],
   "source": [
    "import pyautogui\n",
    "import time\n",
    "from openpyxl import load_workbook\n",
    "\n",
    "nomeCaminhoArquivo = 'C:\\\\Projetos Python\\\\Projeto Filtra Excel\\\\Lista Gestores.xlsx'\n",
    "planilha_aberta =  load_workbook(filename= nomeCaminhoArquivo)\n",
    "sheet_selecionada = planilha_aberta[\"Arquivos\"] ## Acessa a aba que estiver dentro de wb\n",
    "\n",
    "\n",
    "for linha in range(2, len(sheet_selecionada['A']) + 1 ):\n",
    "\n",
    "    nome_gestor = sheet_selecionada[f'A{linha}'].value\n",
    "\n",
    "    pyautogui.PAUSE = 1\n",
    "    pyautogui.press('win')\n",
    "    pyautogui.typewrite('executar')\n",
    "    pyautogui.press('enter')\n",
    "    pyautogui.write(\"C:\\\\UiPath\\\\Envio de Emails\\\\Envio de Email RPA com anexo\\\\Envio de Email RPA RH Banco de Horas\\\\Bando de horas Outubro-Novembro.xlsx\")\n",
    "    pyautogui.press('enter')\n",
    "    time.sleep(3)\n",
    "    pyautogui.click(x=495, y=247)\n",
    "    pyautogui.press('down')\n",
    "    pyautogui.press('down')\n",
    "    pyautogui.press('down')\n",
    "    pyautogui.press('down')\n",
    "    pyautogui.press('down')\n",
    "    pyautogui.press('down')\n",
    "    pyautogui.press('down')\n",
    "    pyautogui.press('down')\n",
    "    pyautogui.write(nome_gestor)\n",
    "    pyautogui.press('enter')\n",
    "    pyautogui.hotkey('ctrl', 't')\n",
    "    pyautogui.hotkey('ctrl', 't')\n",
    "    pyautogui.hotkey('ctrl', 'c')\n",
    "    pyautogui.hotkey('alt', 'shift', 'f1')\n",
    "    pyautogui.hotkey('ctrl', 'v')\n",
    "    time.sleep(8)\n",
    "    pyautogui.press('alt')\n",
    "    pyautogui.press('c')\n",
    "    pyautogui.press('o')\n",
    "    pyautogui.press('t')\n",
    "\n",
    "    pyautogui.hotkey('ctrl', 'pgdown')\n",
    "    pyautogui.click(x=246, y=989, button='right')\n",
    "    pyautogui.press('down')\n",
    "    pyautogui.press('down')\n",
    "    pyautogui.press('enter')\n",
    "\n",
    "    time.sleep(1)\n",
    "    pyautogui.press('enter')\n",
    "    time.sleep(5)\n",
    "\n",
    "    pyautogui.press('alt')\n",
    "    pyautogui.press('a')\n",
    "    pyautogui.press('a')\n",
    "    pyautogui.press('o')\n",
    "    pyautogui.typewrite(nome_gestor)\n",
    "    pyautogui.press('enter')\n",
    "    time.sleep(2)\n",
    "    pyautogui.hotkey('alt','f4')\n",
    "\n"
   ]
  },
  {
   "cell_type": "code",
   "execution_count": 3,
   "metadata": {},
   "outputs": [
    {
     "data": {
      "text/plain": [
       "Point(x=246, y=989)"
      ]
     },
     "execution_count": 3,
     "metadata": {},
     "output_type": "execute_result"
    }
   ],
   "source": [
    "import pyautogui\n",
    "pyautogui.position()"
   ]
  }
 ],
 "metadata": {
  "kernelspec": {
   "display_name": "Python 3",
   "language": "python",
   "name": "python3"
  },
  "language_info": {
   "codemirror_mode": {
    "name": "ipython",
    "version": 3
   },
   "file_extension": ".py",
   "mimetype": "text/x-python",
   "name": "python",
   "nbconvert_exporter": "python",
   "pygments_lexer": "ipython3",
   "version": "3.12.0"
  },
  "orig_nbformat": 4
 },
 "nbformat": 4,
 "nbformat_minor": 2
}
>>>>>>> 4ed19f64a7fe09202356f6a3428e83d2d19b9aa6
